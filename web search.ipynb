{
 "cells": [
  {
   "cell_type": "code",
   "execution_count": 3,
   "metadata": {},
   "outputs": [],
   "source": [
    "from bs4 import BeautifulSoup \n",
    "from urllib.request import urlopen \n",
    "import re \n",
    "from time import sleep \n",
    "from collections import Counter \n",
    "from nltk.corpus import stopwords \n",
    "import pandas as pd \n",
    "%matplotlib inline"
   ]
  },
  {
   "cell_type": "code",
   "execution_count": 4,
   "metadata": {},
   "outputs": [],
   "source": [
    "def text_cleaner(url):\n",
    "    '''\n",
    "    This function just cleans up the raw html so that I can look at it.\n",
    "    Inputs: a URL to investigate\n",
    "    Outputs: Cleaned text only\n",
    "    '''\n",
    "    try:\n",
    "        page = urlopen(url).read()\n",
    "    except: \n",
    "        return \"Page not found.\"\n",
    "    \n",
    "    soup_obj = BeautifulSoup(page)\n",
    "    title = soup_obj.find('title').text\n",
    "    \n",
    "    if len(soup_obj) == 0:\n",
    "        soup_obj = BeautifulSoup(page, 'html5lib')\n",
    "    \n",
    "    \n",
    "    for script in soup_obj([\"script\", \"style\"]):\n",
    "        script.extract() \n",
    "\n",
    "    text = soup_obj.get_text()\n",
    "    lines = (line.strip() for line in text.splitlines()) \n",
    "    chunks = (phrase.strip() for line in lines for phrase in line.split(\"  \")) \n",
    "    text = ''.join(chunk for chunk in chunks if chunk)\n",
    "    \n",
    "    text = re.sub(\"[^a-zA-Z+3]\",\" \", text)  \n",
    "    text = re.sub(r\"([a-z])([A-Z])\", r\"\\1 \\2\", text) \n",
    "    text = text.lower().split()  \n",
    "    \n",
    "    stop_words = set(stopwords.words(\"english\")) \n",
    "    text = [w for w in text if not w in stop_words]\n",
    "    text = list(set(text))\n",
    "    \n",
    "    return text"
   ]
  },
  {
   "cell_type": "code",
   "execution_count": 5,
   "metadata": {},
   "outputs": [],
   "source": [
    "def prep_url(role, location):\n",
    "    location = location.replace(' ','+')\n",
    "    role = role.replace(' ','+')\n",
    "    return 'https://www.indeed.com/jobs?q='+role+'&l='+location+'&sort=date'"
   ]
  },
  {
   "cell_type": "code",
   "execution_count": null,
   "metadata": {},
   "outputs": [],
   "source": []
  }
 ],
 "metadata": {
  "kernelspec": {
   "display_name": "Python 3",
   "language": "python",
   "name": "python3"
  },
  "language_info": {
   "codemirror_mode": {
    "name": "ipython",
    "version": 3
   },
   "file_extension": ".py",
   "mimetype": "text/x-python",
   "name": "python",
   "nbconvert_exporter": "python",
   "pygments_lexer": "ipython3",
   "version": "3.7.3"
  }
 },
 "nbformat": 4,
 "nbformat_minor": 2
}
